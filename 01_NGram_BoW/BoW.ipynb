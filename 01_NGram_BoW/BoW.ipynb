{
 "cells": [
  {
   "cell_type": "code",
   "execution_count": 1,
   "id": "41525051",
   "metadata": {},
   "outputs": [],
   "source": [
    "# 构建一个玩具数据集\n",
    "corpus = [\"我特别特别喜欢看电影\",\n",
    "        \"这部电影真的是很好看的电影\",\n",
    "        \"今天天气真好是难得的好天气\",\n",
    "        \"我今天去看了一部电影\",\n",
    "        \"电影院的电影都很好看\"]"
   ]
  },
  {
   "cell_type": "code",
   "execution_count": 3,
   "id": "3a981d79",
   "metadata": {},
   "outputs": [
    {
     "name": "stderr",
     "output_type": "stream",
     "text": [
      "Building prefix dict from the default dictionary ...\n",
      "Dumping model to file cache /var/folders/0p/jmdwkb652jb7hrwdt4m0zxl80000gn/T/jieba.cache\n",
      "Loading model cost 0.406 seconds.\n",
      "Prefix dict has been built successfully.\n"
     ]
    },
    {
     "name": "stdout",
     "output_type": "stream",
     "text": [
      "[['我', '特别', '特别', '喜欢', '看', '电影'], ['这部', '电影', '真的', '是', '很', '好看', '的', '电影'], ['今天天气', '真好', '是', '难得', '的', '好', '天气'], ['我', '今天', '去', '看', '了', '一部', '电影'], ['电影院', '的', '电影', '都', '很', '好看']]\n"
     ]
    }
   ],
   "source": [
    "# 对句子进行分词\n",
    "import jieba # 导入 jieba 包\n",
    "# 使用 jieba.cut 进行分词，并将结果转换为列表，存储在 corpus_tokenized 中\n",
    "corpus_tokenized = [list(jieba.cut(sentence)) for sentence in corpus]\n",
    "\n",
    "print(corpus_tokenized)"
   ]
  },
  {
   "cell_type": "code",
   "execution_count": 6,
   "id": "5e7e6f9e",
   "metadata": {},
   "outputs": [
    {
     "name": "stdout",
     "output_type": "stream",
     "text": [
      " 词汇表： {'我': 0, '特别': 1, '喜欢': 2, '看': 3, '电影': 4, '这部': 5, '真的': 6, '是': 7, '很': 8, '好看': 9, '的': 10, '今天天气': 11, '真好': 12, '难得': 13, '好': 14, '天气': 15, '今天': 16, '去': 17, '了': 18, '一部': 19, '电影院': 20, '都': 21}\n"
     ]
    }
   ],
   "source": [
    "# 创建词汇表\n",
    "word_dict = {} # 初始化词汇表\n",
    "# 遍历分词后的语料库\n",
    "for sentence in corpus_tokenized:\n",
    "    for word in sentence:\n",
    "        # 如果词汇表中没有该词，则将其添加到词汇表中\n",
    "        if word not in word_dict:\n",
    "            word_dict[word] = len(word_dict) # 分配当前词汇表索引\n",
    "print(\" 词汇表：\", word_dict) # 打印词汇表"
   ]
  },
  {
   "cell_type": "code",
   "execution_count": 7,
   "id": "573cf7d5",
   "metadata": {},
   "outputs": [
    {
     "name": "stdout",
     "output_type": "stream",
     "text": [
      " 词袋表示： [[1, 2, 1, 1, 1, 0, 0, 0, 0, 0, 0, 0, 0, 0, 0, 0, 0, 0, 0, 0, 0, 0], [0, 0, 0, 0, 2, 1, 1, 1, 1, 1, 1, 0, 0, 0, 0, 0, 0, 0, 0, 0, 0, 0], [0, 0, 0, 0, 0, 0, 0, 1, 0, 0, 1, 1, 1, 1, 1, 1, 0, 0, 0, 0, 0, 0], [1, 0, 0, 1, 1, 0, 0, 0, 0, 0, 0, 0, 0, 0, 0, 0, 1, 1, 1, 1, 0, 0], [0, 0, 0, 0, 1, 0, 0, 0, 1, 1, 1, 0, 0, 0, 0, 0, 0, 0, 0, 0, 1, 1]]\n"
     ]
    }
   ],
   "source": [
    "# 根据词汇表将句子转换为词袋表示\n",
    "bow_vectors = [] # 初始化词袋表示\n",
    "# 遍历分词后的语料库\n",
    "for sentence in corpus_tokenized:\n",
    "    # 初始化一个全 0 向量，其长度等于词汇表大小\n",
    "    sentence_vector = [0] * len(word_dict)\n",
    "    for word in sentence:\n",
    "        # 将对应词的索引位置加 1，表示该词在当前句子中出现了一次\n",
    "        sentence_vector[word_dict[word]] += 1\n",
    "    # 将当前句子的词袋向量添加到向量列表中\n",
    "    bow_vectors.append(sentence_vector)\n",
    "print(\" 词袋表示：\", bow_vectors) # 打印词袋表示"
   ]
  },
  {
   "cell_type": "code",
   "execution_count": 8,
   "id": "96cd6fba",
   "metadata": {},
   "outputs": [],
   "source": [
    "# 导入 numpy 库，用于计算余弦相似度\n",
    "import numpy as np \n",
    "# 定义余弦相似度函数\n",
    "def cosine_similarity(vec1, vec2):\n",
    "    dot_product = np.dot(vec1, vec2) # 计算向量 vec1 和 vec2 的点积\n",
    "    norm_a = np.linalg.norm(vec1) # 计算向量 vec1 的范数\n",
    "    norm_b = np.linalg.norm(vec2) # 计算向量 vec2 的范数  \n",
    "    return dot_product / (norm_a * norm_b) # 返回余弦相似度\n",
    "# 初始化一个全 0 矩阵，用于存储余弦相似度\n",
    "similarity_matrix = np.zeros((len(corpus), len(corpus)))\n",
    "# 计算每两个句子之间的余弦相似度\n",
    "for i in range(len(corpus)):\n",
    "    for j in range(len(corpus)):\n",
    "        similarity_matrix[i][j] = cosine_similarity(bow_vectors[i], \n",
    "                                                    bow_vectors[j])"
   ]
  },
  {
   "cell_type": "code",
   "execution_count": null,
   "id": "4015a5c5",
   "metadata": {},
   "outputs": [
    {
     "name": "stderr",
     "output_type": "stream",
     "text": [
      "findfont: Font family 'PingFang SC' not found.\n",
      "findfont: Font family 'PingFang SC' not found.\n",
      "/Users/kk/pyProject/llm-gpt/venv/lib/python3.9/site-packages/IPython/core/pylabtools.py:152: UserWarning: Glyph 25105 (\\N{CJK UNIFIED IDEOGRAPH-6211}) missing from font(s) DejaVu Sans.\n",
      "  fig.canvas.print_figure(bytes_io, **kw)\n",
      "/Users/kk/pyProject/llm-gpt/venv/lib/python3.9/site-packages/IPython/core/pylabtools.py:152: UserWarning: Glyph 29305 (\\N{CJK UNIFIED IDEOGRAPH-7279}) missing from font(s) DejaVu Sans.\n",
      "  fig.canvas.print_figure(bytes_io, **kw)\n",
      "/Users/kk/pyProject/llm-gpt/venv/lib/python3.9/site-packages/IPython/core/pylabtools.py:152: UserWarning: Glyph 21035 (\\N{CJK UNIFIED IDEOGRAPH-522B}) missing from font(s) DejaVu Sans.\n",
      "  fig.canvas.print_figure(bytes_io, **kw)\n",
      "/Users/kk/pyProject/llm-gpt/venv/lib/python3.9/site-packages/IPython/core/pylabtools.py:152: UserWarning: Glyph 21916 (\\N{CJK UNIFIED IDEOGRAPH-559C}) missing from font(s) DejaVu Sans.\n",
      "  fig.canvas.print_figure(bytes_io, **kw)\n",
      "/Users/kk/pyProject/llm-gpt/venv/lib/python3.9/site-packages/IPython/core/pylabtools.py:152: UserWarning: Glyph 27426 (\\N{CJK UNIFIED IDEOGRAPH-6B22}) missing from font(s) DejaVu Sans.\n",
      "  fig.canvas.print_figure(bytes_io, **kw)\n",
      "/Users/kk/pyProject/llm-gpt/venv/lib/python3.9/site-packages/IPython/core/pylabtools.py:152: UserWarning: Glyph 30475 (\\N{CJK UNIFIED IDEOGRAPH-770B}) missing from font(s) DejaVu Sans.\n",
      "  fig.canvas.print_figure(bytes_io, **kw)\n",
      "/Users/kk/pyProject/llm-gpt/venv/lib/python3.9/site-packages/IPython/core/pylabtools.py:152: UserWarning: Glyph 30005 (\\N{CJK UNIFIED IDEOGRAPH-7535}) missing from font(s) DejaVu Sans.\n",
      "  fig.canvas.print_figure(bytes_io, **kw)\n",
      "/Users/kk/pyProject/llm-gpt/venv/lib/python3.9/site-packages/IPython/core/pylabtools.py:152: UserWarning: Glyph 24433 (\\N{CJK UNIFIED IDEOGRAPH-5F71}) missing from font(s) DejaVu Sans.\n",
      "  fig.canvas.print_figure(bytes_io, **kw)\n",
      "findfont: Font family 'PingFang SC' not found.\n",
      "/Users/kk/pyProject/llm-gpt/venv/lib/python3.9/site-packages/IPython/core/pylabtools.py:152: UserWarning: Glyph 36825 (\\N{CJK UNIFIED IDEOGRAPH-8FD9}) missing from font(s) DejaVu Sans.\n",
      "  fig.canvas.print_figure(bytes_io, **kw)\n",
      "/Users/kk/pyProject/llm-gpt/venv/lib/python3.9/site-packages/IPython/core/pylabtools.py:152: UserWarning: Glyph 37096 (\\N{CJK UNIFIED IDEOGRAPH-90E8}) missing from font(s) DejaVu Sans.\n",
      "  fig.canvas.print_figure(bytes_io, **kw)\n",
      "/Users/kk/pyProject/llm-gpt/venv/lib/python3.9/site-packages/IPython/core/pylabtools.py:152: UserWarning: Glyph 30495 (\\N{CJK UNIFIED IDEOGRAPH-771F}) missing from font(s) DejaVu Sans.\n",
      "  fig.canvas.print_figure(bytes_io, **kw)\n",
      "/Users/kk/pyProject/llm-gpt/venv/lib/python3.9/site-packages/IPython/core/pylabtools.py:152: UserWarning: Glyph 30340 (\\N{CJK UNIFIED IDEOGRAPH-7684}) missing from font(s) DejaVu Sans.\n",
      "  fig.canvas.print_figure(bytes_io, **kw)\n",
      "/Users/kk/pyProject/llm-gpt/venv/lib/python3.9/site-packages/IPython/core/pylabtools.py:152: UserWarning: Glyph 26159 (\\N{CJK UNIFIED IDEOGRAPH-662F}) missing from font(s) DejaVu Sans.\n",
      "  fig.canvas.print_figure(bytes_io, **kw)\n",
      "/Users/kk/pyProject/llm-gpt/venv/lib/python3.9/site-packages/IPython/core/pylabtools.py:152: UserWarning: Glyph 24456 (\\N{CJK UNIFIED IDEOGRAPH-5F88}) missing from font(s) DejaVu Sans.\n",
      "  fig.canvas.print_figure(bytes_io, **kw)\n",
      "/Users/kk/pyProject/llm-gpt/venv/lib/python3.9/site-packages/IPython/core/pylabtools.py:152: UserWarning: Glyph 22909 (\\N{CJK UNIFIED IDEOGRAPH-597D}) missing from font(s) DejaVu Sans.\n",
      "  fig.canvas.print_figure(bytes_io, **kw)\n",
      "findfont: Font family 'PingFang SC' not found.\n",
      "/Users/kk/pyProject/llm-gpt/venv/lib/python3.9/site-packages/IPython/core/pylabtools.py:152: UserWarning: Glyph 20170 (\\N{CJK UNIFIED IDEOGRAPH-4ECA}) missing from font(s) DejaVu Sans.\n",
      "  fig.canvas.print_figure(bytes_io, **kw)\n",
      "/Users/kk/pyProject/llm-gpt/venv/lib/python3.9/site-packages/IPython/core/pylabtools.py:152: UserWarning: Glyph 22825 (\\N{CJK UNIFIED IDEOGRAPH-5929}) missing from font(s) DejaVu Sans.\n",
      "  fig.canvas.print_figure(bytes_io, **kw)\n",
      "/Users/kk/pyProject/llm-gpt/venv/lib/python3.9/site-packages/IPython/core/pylabtools.py:152: UserWarning: Glyph 27668 (\\N{CJK UNIFIED IDEOGRAPH-6C14}) missing from font(s) DejaVu Sans.\n",
      "  fig.canvas.print_figure(bytes_io, **kw)\n",
      "/Users/kk/pyProject/llm-gpt/venv/lib/python3.9/site-packages/IPython/core/pylabtools.py:152: UserWarning: Glyph 38590 (\\N{CJK UNIFIED IDEOGRAPH-96BE}) missing from font(s) DejaVu Sans.\n",
      "  fig.canvas.print_figure(bytes_io, **kw)\n",
      "/Users/kk/pyProject/llm-gpt/venv/lib/python3.9/site-packages/IPython/core/pylabtools.py:152: UserWarning: Glyph 24471 (\\N{CJK UNIFIED IDEOGRAPH-5F97}) missing from font(s) DejaVu Sans.\n",
      "  fig.canvas.print_figure(bytes_io, **kw)\n",
      "findfont: Font family 'PingFang SC' not found.\n",
      "/Users/kk/pyProject/llm-gpt/venv/lib/python3.9/site-packages/IPython/core/pylabtools.py:152: UserWarning: Glyph 21435 (\\N{CJK UNIFIED IDEOGRAPH-53BB}) missing from font(s) DejaVu Sans.\n",
      "  fig.canvas.print_figure(bytes_io, **kw)\n",
      "/Users/kk/pyProject/llm-gpt/venv/lib/python3.9/site-packages/IPython/core/pylabtools.py:152: UserWarning: Glyph 20102 (\\N{CJK UNIFIED IDEOGRAPH-4E86}) missing from font(s) DejaVu Sans.\n",
      "  fig.canvas.print_figure(bytes_io, **kw)\n",
      "/Users/kk/pyProject/llm-gpt/venv/lib/python3.9/site-packages/IPython/core/pylabtools.py:152: UserWarning: Glyph 19968 (\\N{CJK UNIFIED IDEOGRAPH-4E00}) missing from font(s) DejaVu Sans.\n",
      "  fig.canvas.print_figure(bytes_io, **kw)\n",
      "findfont: Font family 'PingFang SC' not found.\n",
      "/Users/kk/pyProject/llm-gpt/venv/lib/python3.9/site-packages/IPython/core/pylabtools.py:152: UserWarning: Glyph 38498 (\\N{CJK UNIFIED IDEOGRAPH-9662}) missing from font(s) DejaVu Sans.\n",
      "  fig.canvas.print_figure(bytes_io, **kw)\n",
      "/Users/kk/pyProject/llm-gpt/venv/lib/python3.9/site-packages/IPython/core/pylabtools.py:152: UserWarning: Glyph 37117 (\\N{CJK UNIFIED IDEOGRAPH-90FD}) missing from font(s) DejaVu Sans.\n",
      "  fig.canvas.print_figure(bytes_io, **kw)\n",
      "findfont: Font family 'PingFang SC' not found.\n",
      "findfont: Font family 'PingFang SC' not found.\n",
      "findfont: Font family 'PingFang SC' not found.\n",
      "findfont: Font family 'PingFang SC' not found.\n",
      "findfont: Font family 'PingFang SC' not found.\n",
      "findfont: Font family 'PingFang SC' not found.\n",
      "findfont: Font family 'PingFang SC' not found.\n",
      "findfont: Font family 'PingFang SC' not found.\n",
      "findfont: Font family 'PingFang SC' not found.\n",
      "findfont: Font family 'PingFang SC' not found.\n",
      "findfont: Font family 'PingFang SC' not found.\n",
      "findfont: Font family 'PingFang SC' not found.\n",
      "findfont: Font family 'PingFang SC' not found.\n",
      "findfont: Font family 'PingFang SC' not found.\n",
      "findfont: Font family 'PingFang SC' not found.\n",
      "findfont: Font family 'PingFang SC' not found.\n",
      "findfont: Font family 'PingFang SC' not found.\n",
      "findfont: Font family 'PingFang SC' not found.\n",
      "findfont: Font family 'PingFang SC' not found.\n",
      "findfont: Font family 'PingFang SC' not found.\n",
      "findfont: Font family 'PingFang SC' not found.\n",
      "findfont: Font family 'PingFang SC' not found.\n",
      "findfont: Font family 'PingFang SC' not found.\n",
      "findfont: Font family 'PingFang SC' not found.\n",
      "findfont: Font family 'PingFang SC' not found.\n",
      "findfont: Font family 'PingFang SC' not found.\n",
      "findfont: Font family 'PingFang SC' not found.\n",
      "findfont: Font family 'PingFang SC' not found.\n",
      "findfont: Font family 'PingFang SC' not found.\n",
      "findfont: Font family 'PingFang SC' not found.\n",
      "findfont: Font family 'PingFang SC' not found.\n",
      "findfont: Font family 'PingFang SC' not found.\n",
      "findfont: Font family 'PingFang SC' not found.\n",
      "findfont: Font family 'PingFang SC' not found.\n"
     ]
    },
    {
     "data": {
      "image/png": "[encoded data removed]",
      "text/plain": [
       "<Figure size 640x480 with 2 Axes>"
      ]
     },
     "metadata": {},
     "output_type": "display_data"
    }
   ],
   "source": [
    "# 导入 matplotlib 库，用于可视化余弦相似度矩阵\n",
    "import matplotlib.pyplot as plt\n",
    "from matplotlib import font_manager as fm\n",
    "\n",
    "# 替换为你电脑上实际存在的中文字体路径（建议用字体册查找）\n",
    "font_path = \"/System/Library/Fonts/Hiragino Sans GB.ttc\"\n",
    "my_font = fm.FontProperties(fname=font_path)\n",
    "\n",
    "plt.rcParams[\"font.family\"]=my_font.get_name() # 用来设定字体样式\n",
    "plt.rcParams['font.sans-serif']=my_font.get_name() # 用来设定无衬线字体样式\n",
    "plt.rcParams['axes.unicode_minus']=False # 用来正常显示负号\n",
    "fig, ax = plt.subplots() # 创建一个绘图对象\n",
    "# 使用 matshow 函数绘制余弦相似度矩阵，颜色使用蓝色调\n",
    "cax = ax.matshow(similarity_matrix, cmap=plt.cm.Blues)\n",
    "fig.colorbar(cax) # 条形图颜色映射\n",
    "ax.set_xticks(range(len(corpus))) # x 轴刻度\n",
    "ax.set_yticks(range(len(corpus))) # y 轴刻度\n",
    "ax.set_xticklabels(corpus, rotation=45, ha='left') # 刻度标签 \n",
    "ax.set_yticklabels(corpus) # 刻度标签为原始句子\n",
    "plt.show() # 显示图形"
   ]
  }
 ],
 "metadata": {
  "kernelspec": {
   "display_name": "venv",
   "language": "python",
   "name": "python3"
  },
  "language_info": {
   "codemirror_mode": {
    "name": "ipython",
    "version": 3
   },
   "file_extension": ".py",
   "mimetype": "text/x-python",
   "name": "python",
   "nbconvert_exporter": "python",
   "pygments_lexer": "ipython3",
   "version": "3.9.6"
  }
 },
 "nbformat": 4,
 "nbformat_minor": 5
}
